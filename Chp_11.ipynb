{
 "cells": [
  {
   "cell_type": "code",
   "execution_count": 1,
   "metadata": {
    "collapsed": true
   },
   "outputs": [],
   "source": [
    "from collections import OrderedDict"
   ]
  },
  {
   "cell_type": "code",
   "execution_count": 2,
   "metadata": {
    "collapsed": true
   },
   "outputs": [],
   "source": [
    "%matplotlib inline\n",
    "import matplotlib.pyplot as plt\n",
    "import numpy as np\n",
    "import pandas as pd\n",
    "import pymc3 as pm\n",
    "import scipy as sp\n",
    "import seaborn as sns\n",
    "from theano import shared, tensor as tt"
   ]
  },
  {
   "cell_type": "code",
   "execution_count": 3,
   "metadata": {},
   "outputs": [],
   "source": [
    "plt.style.use(['seaborn-darkgrid', 'seaborn-colorblind'])\n",
    "sns.set_color_codes()\n",
    "C0, C1 = sns.color_palette()[:2]"
   ]
  },
  {
   "cell_type": "markdown",
   "metadata": {
    "collapsed": true
   },
   "source": [
    "#### Code 11.1"
   ]
  },
  {
   "cell_type": "code",
   "execution_count": 4,
   "metadata": {
    "collapsed": true
   },
   "outputs": [],
   "source": [
    "TROLLEY_URI = 'https://raw.githubusercontent.com/aloctavodia/Statistical-Rethinking-with-Python-and-PyMC3/master/Data/Trolley.csv'\n",
    "\n",
    "trolley_df = pd.read_csv(TROLLEY_URI, sep=';')"
   ]
  },
  {
   "cell_type": "code",
   "execution_count": 5,
   "metadata": {},
   "outputs": [
    {
     "data": {
      "text/html": [
       "<div>\n",
       "<table border=\"1\" class=\"dataframe\">\n",
       "  <thead>\n",
       "    <tr style=\"text-align: right;\">\n",
       "      <th></th>\n",
       "      <th>case</th>\n",
       "      <th>response</th>\n",
       "      <th>order</th>\n",
       "      <th>id</th>\n",
       "      <th>age</th>\n",
       "      <th>male</th>\n",
       "      <th>edu</th>\n",
       "      <th>action</th>\n",
       "      <th>intention</th>\n",
       "      <th>contact</th>\n",
       "      <th>story</th>\n",
       "      <th>action2</th>\n",
       "    </tr>\n",
       "  </thead>\n",
       "  <tbody>\n",
       "    <tr>\n",
       "      <th>0</th>\n",
       "      <td>cfaqu</td>\n",
       "      <td>4</td>\n",
       "      <td>2</td>\n",
       "      <td>96;434</td>\n",
       "      <td>14</td>\n",
       "      <td>0</td>\n",
       "      <td>Middle School</td>\n",
       "      <td>0</td>\n",
       "      <td>0</td>\n",
       "      <td>1</td>\n",
       "      <td>aqu</td>\n",
       "      <td>1</td>\n",
       "    </tr>\n",
       "    <tr>\n",
       "      <th>1</th>\n",
       "      <td>cfbur</td>\n",
       "      <td>3</td>\n",
       "      <td>31</td>\n",
       "      <td>96;434</td>\n",
       "      <td>14</td>\n",
       "      <td>0</td>\n",
       "      <td>Middle School</td>\n",
       "      <td>0</td>\n",
       "      <td>0</td>\n",
       "      <td>1</td>\n",
       "      <td>bur</td>\n",
       "      <td>1</td>\n",
       "    </tr>\n",
       "    <tr>\n",
       "      <th>2</th>\n",
       "      <td>cfrub</td>\n",
       "      <td>4</td>\n",
       "      <td>16</td>\n",
       "      <td>96;434</td>\n",
       "      <td>14</td>\n",
       "      <td>0</td>\n",
       "      <td>Middle School</td>\n",
       "      <td>0</td>\n",
       "      <td>0</td>\n",
       "      <td>1</td>\n",
       "      <td>rub</td>\n",
       "      <td>1</td>\n",
       "    </tr>\n",
       "    <tr>\n",
       "      <th>3</th>\n",
       "      <td>cibox</td>\n",
       "      <td>3</td>\n",
       "      <td>32</td>\n",
       "      <td>96;434</td>\n",
       "      <td>14</td>\n",
       "      <td>0</td>\n",
       "      <td>Middle School</td>\n",
       "      <td>0</td>\n",
       "      <td>1</td>\n",
       "      <td>1</td>\n",
       "      <td>box</td>\n",
       "      <td>1</td>\n",
       "    </tr>\n",
       "    <tr>\n",
       "      <th>4</th>\n",
       "      <td>cibur</td>\n",
       "      <td>3</td>\n",
       "      <td>4</td>\n",
       "      <td>96;434</td>\n",
       "      <td>14</td>\n",
       "      <td>0</td>\n",
       "      <td>Middle School</td>\n",
       "      <td>0</td>\n",
       "      <td>1</td>\n",
       "      <td>1</td>\n",
       "      <td>bur</td>\n",
       "      <td>1</td>\n",
       "    </tr>\n",
       "  </tbody>\n",
       "</table>\n",
       "</div>"
      ],
      "text/plain": [
       "    case  response  order      id  age  male            edu  action  \\\n",
       "0  cfaqu         4      2  96;434   14     0  Middle School       0   \n",
       "1  cfbur         3     31  96;434   14     0  Middle School       0   \n",
       "2  cfrub         4     16  96;434   14     0  Middle School       0   \n",
       "3  cibox         3     32  96;434   14     0  Middle School       0   \n",
       "4  cibur         3      4  96;434   14     0  Middle School       0   \n",
       "\n",
       "   intention  contact story  action2  \n",
       "0          0        1   aqu        1  \n",
       "1          0        1   bur        1  \n",
       "2          0        1   rub        1  \n",
       "3          1        1   box        1  \n",
       "4          1        1   bur        1  "
      ]
     },
     "execution_count": 5,
     "metadata": {},
     "output_type": "execute_result"
    }
   ],
   "source": [
    "trolley_df.head()"
   ]
  },
  {
   "cell_type": "markdown",
   "metadata": {},
   "source": [
    "#### Code 11.2"
   ]
  },
  {
   "cell_type": "code",
   "execution_count": 6,
   "metadata": {},
   "outputs": [
    {
     "data": {
      "image/png": "[encoded data removed]",
      "text/plain": [
       "<matplotlib.figure.Figure at 0x7f37a39ab780>"
      ]
     },
     "metadata": {},
     "output_type": "display_data"
    }
   ],
   "source": [
    "ax = (trolley_df.response\n",
    "                .value_counts()\n",
    "                .sort_index()\n",
    "                .plot(kind='bar'))\n",
    "\n",
    "ax.set_xlabel(\"response\");\n",
    "ax.set_ylabel(\"Frequency\");"
   ]
  },
  {
   "cell_type": "markdown",
   "metadata": {},
   "source": [
    "#### Code 11.3"
   ]
  },
  {
   "cell_type": "code",
   "execution_count": 7,
   "metadata": {},
   "outputs": [
    {
     "data": {
      "image/png": "[encoded data removed]",
      "text/plain": [
       "<matplotlib.figure.Figure at 0x7f37a39abac8>"
      ]
     },
     "metadata": {},
     "output_type": "display_data"
    }
   ],
   "source": [
    "ax = (trolley_df.response\n",
    "                .value_counts()\n",
    "                .sort_index()\n",
    "                .cumsum()\n",
    "                .div(trolley_df.shape[0])\n",
    "                .plot(marker='o'))\n",
    "\n",
    "ax.set_xlim(0.9, 7.1);\n",
    "ax.set_xlabel(\"response\");\n",
    "\n",
    "ax.set_ylabel(\"cumulative proportion\");"
   ]
  },
  {
   "cell_type": "markdown",
   "metadata": {},
   "source": [
    "#### Code 11.4"
   ]
  },
  {
   "cell_type": "code",
   "execution_count": 8,
   "metadata": {},
   "outputs": [],
   "source": [
    "resp_lco = (trolley_df.response\n",
    "                      .value_counts()\n",
    "                      .sort_index()\n",
    "                      .cumsum()\n",
    "                      .iloc[:-1]\n",
    "                      .div(trolley_df.shape[0])\n",
    "                      .apply(lambda p: np.log(p / (1. - p))))"
   ]
  },
  {
   "cell_type": "code",
   "execution_count": 9,
   "metadata": {},
   "outputs": [
    {
     "data": {
      "image/png": "[encoded data removed]",
      "text/plain": [
       "<matplotlib.figure.Figure at 0x7f37d8380898>"
      ]
     },
     "metadata": {},
     "output_type": "display_data"
    }
   ],
   "source": [
    "ax = resp_lco.plot(marker='o')\n",
    "\n",
    "ax.set_xlim(0.9, 7);\n",
    "ax.set_xlabel(\"response\");\n",
    "\n",
    "ax.set_ylabel(\"log-cumulative-odds\");"
   ]
  },
  {
   "cell_type": "markdown",
   "metadata": {},
   "source": [
    "#### Code 11.5"
   ]
  },
  {
   "cell_type": "markdown",
   "metadata": {},
   "source": [
    "The following `Ordered` transformation is taken from a [StackOverflow question](https://stackoverflow.com/questions/43113413/pymc3-how-to-defined-an-ordered-vector-of-parameters)."
   ]
  },
  {
   "cell_type": "code",
   "execution_count": 10,
   "metadata": {},
   "outputs": [],
   "source": [
    "class Ordered(pm.distributions.transforms.ElemwiseTransform):\n",
    "    name = \"ordered\"\n",
    "\n",
    "    def forward(self, x):\n",
    "        out = tt.zeros(x.shape)\n",
    "        out = tt.inc_subtensor(out[0], x[0])\n",
    "        out = tt.inc_subtensor(out[1:], tt.log(x[1:] - x[:-1]))\n",
    "        return out\n",
    "\n",
    "    def backward(self, y):\n",
    "        out = tt.zeros(y.shape)\n",
    "        out = tt.inc_subtensor(out[0], y[0])\n",
    "        out = tt.inc_subtensor(out[1:], tt.exp(y[1:]))\n",
    "        return tt.cumsum(out)\n",
    "\n",
    "    def jacobian_det(self, y):\n",
    "        return tt.sum(y[1:])"
   ]
  },
  {
   "cell_type": "code",
   "execution_count": 11,
   "metadata": {},
   "outputs": [],
   "source": [
    "with pm.Model() as m11_1:\n",
    "    a = pm.Normal(\n",
    "        'a', 0., 10.,\n",
    "        transform=Ordered(),\n",
    "        shape=6, testval=np.arange(6) - 2.5\n",
    "    )\n",
    "\n",
    "    pa = pm.math.sigmoid(a)\n",
    "\n",
    "    p_cum = tt.concatenate([[0.], pa, [1.]])\n",
    "    p = p_cum[1:] - p_cum[:-1]\n",
    "    \n",
    "    resp_obs = pm.Categorical(\n",
    "        'resp_obs', p,\n",
    "        observed=trolley_df.response - 1\n",
    "    )"
   ]
  },
  {
   "cell_type": "code",
   "execution_count": 12,
   "metadata": {},
   "outputs": [
    {
     "name": "stderr",
     "output_type": "stream",
     "text": [
      "logp = -18,941, ||grad|| = 0.45229: 100%|██████████| 14/14 [00:00<00:00, 884.47it/s]s]\n"
     ]
    }
   ],
   "source": [
    "with m11_1:\n",
    "    map_11_1 = pm.find_MAP()"
   ]
  },
  {
   "cell_type": "markdown",
   "metadata": {},
   "source": [
    "#### Code 11.6"
   ]
  },
  {
   "cell_type": "code",
   "execution_count": 13,
   "metadata": {},
   "outputs": [
    {
     "data": {
      "text/plain": [
       "array([-1.9160707 , -1.26658298, -0.71862013,  0.24778795,  0.88986631,\n",
       "        1.76937289])"
      ]
     },
     "execution_count": 13,
     "metadata": {},
     "output_type": "execute_result"
    }
   ],
   "source": [
    "map_11_1['a']"
   ]
  },
  {
   "cell_type": "markdown",
   "metadata": {},
   "source": [
    "#### Code 11.7"
   ]
  },
  {
   "cell_type": "code",
   "execution_count": 14,
   "metadata": {},
   "outputs": [
    {
     "data": {
      "text/plain": [
       "array([ 0.12830038,  0.21984275,  0.32769691,  0.56163196,  0.70886258,\n",
       "        0.85437967])"
      ]
     },
     "execution_count": 14,
     "metadata": {},
     "output_type": "execute_result"
    }
   ],
   "source": [
    "sp.special.expit(map_11_1['a'])"
   ]
  },
  {
   "cell_type": "markdown",
   "metadata": {},
   "source": [
    "#### Code 11.8"
   ]
  },
  {
   "cell_type": "code",
   "execution_count": 15,
   "metadata": {},
   "outputs": [
    {
     "name": "stderr",
     "output_type": "stream",
     "text": [
      "Auto-assigning NUTS sampler...\n",
      "Initializing NUTS using jitter+adapt_diag...\n",
      "100%|██████████| 1000/1000 [00:07<00:00, 135.43it/s]\n"
     ]
    }
   ],
   "source": [
    "with m11_1:\n",
    "    trace_11_1 = pm.sample(njobs=2)"
   ]
  },
  {
   "cell_type": "code",
   "execution_count": 16,
   "metadata": {},
   "outputs": [
    {
     "data": {
      "text/html": [
       "<div>\n",
       "<table border=\"1\" class=\"dataframe\">\n",
       "  <thead>\n",
       "    <tr style=\"text-align: right;\">\n",
       "      <th></th>\n",
       "      <th>mean</th>\n",
       "      <th>sd</th>\n",
       "      <th>mc_error</th>\n",
       "      <th>hpd_2.5</th>\n",
       "      <th>hpd_97.5</th>\n",
       "    </tr>\n",
       "  </thead>\n",
       "  <tbody>\n",
       "    <tr>\n",
       "      <th>a__0</th>\n",
       "      <td>-1.92</td>\n",
       "      <td>0.03</td>\n",
       "      <td>0.0</td>\n",
       "      <td>-1.98</td>\n",
       "      <td>-1.87</td>\n",
       "    </tr>\n",
       "    <tr>\n",
       "      <th>a__1</th>\n",
       "      <td>-1.27</td>\n",
       "      <td>0.02</td>\n",
       "      <td>0.0</td>\n",
       "      <td>-1.32</td>\n",
       "      <td>-1.22</td>\n",
       "    </tr>\n",
       "    <tr>\n",
       "      <th>a__2</th>\n",
       "      <td>-0.72</td>\n",
       "      <td>0.02</td>\n",
       "      <td>0.0</td>\n",
       "      <td>-0.76</td>\n",
       "      <td>-0.68</td>\n",
       "    </tr>\n",
       "    <tr>\n",
       "      <th>a__3</th>\n",
       "      <td>0.25</td>\n",
       "      <td>0.02</td>\n",
       "      <td>0.0</td>\n",
       "      <td>0.21</td>\n",
       "      <td>0.29</td>\n",
       "    </tr>\n",
       "    <tr>\n",
       "      <th>a__4</th>\n",
       "      <td>0.89</td>\n",
       "      <td>0.02</td>\n",
       "      <td>0.0</td>\n",
       "      <td>0.85</td>\n",
       "      <td>0.93</td>\n",
       "    </tr>\n",
       "    <tr>\n",
       "      <th>a__5</th>\n",
       "      <td>1.78</td>\n",
       "      <td>0.03</td>\n",
       "      <td>0.0</td>\n",
       "      <td>1.72</td>\n",
       "      <td>1.84</td>\n",
       "    </tr>\n",
       "  </tbody>\n",
       "</table>\n",
       "</div>"
      ],
      "text/plain": [
       "      mean    sd  mc_error  hpd_2.5  hpd_97.5\n",
       "a__0 -1.92  0.03       0.0    -1.98     -1.87\n",
       "a__1 -1.27  0.02       0.0    -1.32     -1.22\n",
       "a__2 -0.72  0.02       0.0    -0.76     -0.68\n",
       "a__3  0.25  0.02       0.0     0.21      0.29\n",
       "a__4  0.89  0.02       0.0     0.85      0.93\n",
       "a__5  1.78  0.03       0.0     1.72      1.84"
      ]
     },
     "execution_count": 16,
     "metadata": {},
     "output_type": "execute_result"
    }
   ],
   "source": [
    "pm.df_summary(trace_11_1, varnames=['a']).round(2)"
   ]
  },
  {
   "cell_type": "code",
   "execution_count": 17,
   "metadata": {},
   "outputs": [
    {
     "data": {
      "text/plain": [
       "array([  928.,  1000.,  1000.,   981.,  1000.,  1000.])"
      ]
     },
     "execution_count": 17,
     "metadata": {},
     "output_type": "execute_result"
    }
   ],
   "source": [
    "pm.effective_n(trace_11_1)['a']"
   ]
  },
  {
   "cell_type": "code",
   "execution_count": 18,
   "metadata": {},
   "outputs": [
    {
     "data": {
      "text/plain": [
       "array([ 0.99910865,  0.99902182,  0.99901074,  0.99901799,  0.99904718,\n",
       "        0.99902688])"
      ]
     },
     "execution_count": 18,
     "metadata": {},
     "output_type": "execute_result"
    }
   ],
   "source": [
    "pm.gelman_rubin(trace_11_1)['a']"
   ]
  },
  {
   "cell_type": "markdown",
   "metadata": {},
   "source": [
    "#### Code 11.9"
   ]
  },
  {
   "cell_type": "code",
   "execution_count": 19,
   "metadata": {
    "collapsed": true
   },
   "outputs": [],
   "source": [
    "def ordered_logistic_proba(a):\n",
    "    pa = sp.special.expit(a)\n",
    "    p_cum = np.concatenate(([0.], pa, [1.]))\n",
    "    \n",
    "    return p_cum[1:] - p_cum[:-1]"
   ]
  },
  {
   "cell_type": "code",
   "execution_count": 20,
   "metadata": {},
   "outputs": [
    {
     "data": {
      "text/plain": [
       "array([ 0.12743907,  0.09166358,  0.10820086,  0.23452366,  0.14758042,\n",
       "        0.14569803,  0.14489439])"
      ]
     },
     "execution_count": 20,
     "metadata": {},
     "output_type": "execute_result"
    }
   ],
   "source": [
    "ordered_logistic_proba(trace_11_1['a'].mean(axis=0))"
   ]
  },
  {
   "cell_type": "markdown",
   "metadata": {},
   "source": [
    "#### Code 11.10"
   ]
  },
  {
   "cell_type": "code",
   "execution_count": 21,
   "metadata": {},
   "outputs": [
    {
     "data": {
      "text/plain": [
       "4.1998144319006574"
      ]
     },
     "execution_count": 21,
     "metadata": {},
     "output_type": "execute_result"
    }
   ],
   "source": [
    "(ordered_logistic_proba(trace_11_1['a'].mean(axis=0)) \\\n",
    "     * (1 + np.arange(7))).sum()"
   ]
  },
  {
   "cell_type": "markdown",
   "metadata": {},
   "source": [
    "#### Code 11.11"
   ]
  },
  {
   "cell_type": "code",
   "execution_count": 22,
   "metadata": {},
   "outputs": [
    {
     "data": {
      "text/plain": [
       "array([ 0.08137618,  0.06405384,  0.08243492,  0.20960927,  0.15941222,\n",
       "        0.18474855,  0.21836501])"
      ]
     },
     "execution_count": 22,
     "metadata": {},
     "output_type": "execute_result"
    }
   ],
   "source": [
    "ordered_logistic_proba(trace_11_1['a'].mean(axis=0) - 0.5)"
   ]
  },
  {
   "cell_type": "markdown",
   "metadata": {},
   "source": [
    "#### Code 11.12"
   ]
  },
  {
   "cell_type": "code",
   "execution_count": 23,
   "metadata": {},
   "outputs": [
    {
     "data": {
      "text/plain": [
       "4.7293332107678339"
      ]
     },
     "execution_count": 23,
     "metadata": {},
     "output_type": "execute_result"
    }
   ],
   "source": [
    "(ordered_logistic_proba(trace_11_1['a'].mean(axis=0) - 0.5) \\\n",
    "     * (1 + np.arange(7))).sum()"
   ]
  },
  {
   "cell_type": "markdown",
   "metadata": {},
   "source": [
    "#### Code 11.13"
   ]
  },
  {
   "cell_type": "code",
   "execution_count": 24,
   "metadata": {},
   "outputs": [],
   "source": [
    "action = shared(trolley_df.action.values)\n",
    "intention = shared(trolley_df.intention.values)\n",
    "contact = shared(trolley_df.contact.values)\n",
    "\n",
    "with pm.Model() as m11_2:\n",
    "    a = pm.Normal(\n",
    "        'a', 0., 10.,\n",
    "        transform=Ordered(),\n",
    "        shape=6,\n",
    "        testval=trace_11_1['a'].mean(axis=0)\n",
    "    )\n",
    "    \n",
    "    bA = pm.Normal('bA', 0., 10.)\n",
    "    bI = pm.Normal('bI', 0., 10.)\n",
    "    bC = pm.Normal('bC', 0., 10.)\n",
    "    phi = bA * action + bI * intention + bC * contact\n",
    "\n",
    "    pa = pm.math.sigmoid(\n",
    "        tt.shape_padleft(a) - tt.shape_padright(phi)\n",
    "    )\n",
    "    p_cum = tt.concatenate([\n",
    "        tt.zeros_like(tt.shape_padright(pa[:, 0])),\n",
    "        pa,\n",
    "        tt.ones_like(tt.shape_padright(pa[:, 0]))\n",
    "    ], axis=1)\n",
    "    p = p_cum[:, 1:] - p_cum[:, :-1]\n",
    "    \n",
    "    resp_obs = pm.Categorical(\n",
    "        'resp_obs', p,\n",
    "        observed=trolley_df.response - 1\n",
    "    )"
   ]
  },
  {
   "cell_type": "code",
   "execution_count": 25,
   "metadata": {
    "scrolled": true
   },
   "outputs": [
    {
     "name": "stderr",
     "output_type": "stream",
     "text": [
      "logp = -18,565, ||grad|| = 3.7381: 100%|██████████| 17/17 [00:00<00:00, 154.92it/s]  \n"
     ]
    }
   ],
   "source": [
    "with m11_2:\n",
    "    map_11_2 = pm.find_MAP()"
   ]
  },
  {
   "cell_type": "markdown",
   "metadata": {},
   "source": [
    "#### Code 11.14"
   ]
  },
  {
   "cell_type": "code",
   "execution_count": 26,
   "metadata": {
    "collapsed": true
   },
   "outputs": [],
   "source": [
    "with pm.Model() as m11_3:\n",
    "    a = pm.Normal(\n",
    "        'a', 0., 10.,\n",
    "        transform=Ordered(),\n",
    "        shape=6,\n",
    "        testval=trace_11_1['a'].mean(axis=0)\n",
    "    )\n",
    "    \n",
    "    bA = pm.Normal('bA', 0., 10.)\n",
    "    bI = pm.Normal('bI', 0., 10.)\n",
    "    bC = pm.Normal('bC', 0., 10.)\n",
    "    bAI = pm.Normal('bAI', 0., 10.)\n",
    "    bCI = pm.Normal('bCI', 0., 10.)\n",
    "    phi = phi = bA * action + bI * intention + bC * contact \\\n",
    "            + bAI * action * intention \\\n",
    "            + bCI * contact * intention\n",
    "\n",
    "    pa = pm.math.sigmoid(\n",
    "        tt.shape_padleft(a) - tt.shape_padright(phi)\n",
    "    )\n",
    "    p_cum = tt.concatenate([\n",
    "        tt.zeros_like(tt.shape_padright(pa[:, 0])),\n",
    "        pa,\n",
    "        tt.ones_like(tt.shape_padright(pa[:, 0]))\n",
    "    ], axis=1)\n",
    "    p = p_cum[:, 1:] - p_cum[:, :-1]\n",
    "    \n",
    "    resp_obs = pm.Categorical(\n",
    "        'resp_obs', p,\n",
    "        observed=trolley_df.response - 1\n",
    "    )"
   ]
  },
  {
   "cell_type": "code",
   "execution_count": 27,
   "metadata": {},
   "outputs": [
    {
     "name": "stderr",
     "output_type": "stream",
     "text": [
      "logp = -18,489, ||grad|| = 0.91144: 100%|██████████| 25/25 [00:00<00:00, 138.84it/s] ]\n"
     ]
    }
   ],
   "source": [
    "with m11_3:\n",
    "    map_11_3 = pm.find_MAP()"
   ]
  },
  {
   "cell_type": "markdown",
   "metadata": {},
   "source": [
    "#### Code 11.15"
   ]
  },
  {
   "cell_type": "code",
   "execution_count": 28,
   "metadata": {
    "collapsed": true
   },
   "outputs": [],
   "source": [
    "def get_coefs(map_est):\n",
    "    coefs = OrderedDict()\n",
    "    \n",
    "    for i, ai in enumerate(map_est['a']):\n",
    "        coefs['a_{}'.format(i)] = ai\n",
    "        \n",
    "    coefs['bA'] = map_est.get('bA', np.nan)\n",
    "    coefs['bI'] = map_est.get('bI', np.nan)\n",
    "    coefs['bC'] = map_est.get('bC', np.nan)\n",
    "    coefs['bAI'] = map_est.get('bAI', np.nan)\n",
    "    coefs['bCI'] = map_est.get('bCI', np.nan)\n",
    "        \n",
    "    return coefs"
   ]
  },
  {
   "cell_type": "code",
   "execution_count": 29,
   "metadata": {},
   "outputs": [
    {
     "data": {
      "text/html": [
       "<div>\n",
       "<table border=\"1\" class=\"dataframe\">\n",
       "  <thead>\n",
       "    <tr style=\"text-align: right;\">\n",
       "      <th></th>\n",
       "      <th>m11_1</th>\n",
       "      <th>m11_2</th>\n",
       "      <th>m11_3</th>\n",
       "    </tr>\n",
       "  </thead>\n",
       "  <tbody>\n",
       "    <tr>\n",
       "      <th>a_0</th>\n",
       "      <td>-1.92</td>\n",
       "      <td>-2.84</td>\n",
       "      <td>-2.63</td>\n",
       "    </tr>\n",
       "    <tr>\n",
       "      <th>a_1</th>\n",
       "      <td>-1.27</td>\n",
       "      <td>-2.16</td>\n",
       "      <td>-1.94</td>\n",
       "    </tr>\n",
       "    <tr>\n",
       "      <th>a_2</th>\n",
       "      <td>-0.72</td>\n",
       "      <td>-1.57</td>\n",
       "      <td>-1.34</td>\n",
       "    </tr>\n",
       "    <tr>\n",
       "      <th>a_3</th>\n",
       "      <td>0.25</td>\n",
       "      <td>-0.55</td>\n",
       "      <td>-0.31</td>\n",
       "    </tr>\n",
       "    <tr>\n",
       "      <th>a_4</th>\n",
       "      <td>0.89</td>\n",
       "      <td>0.12</td>\n",
       "      <td>0.36</td>\n",
       "    </tr>\n",
       "    <tr>\n",
       "      <th>a_5</th>\n",
       "      <td>1.77</td>\n",
       "      <td>1.02</td>\n",
       "      <td>1.27</td>\n",
       "    </tr>\n",
       "    <tr>\n",
       "      <th>bA</th>\n",
       "      <td>NaN</td>\n",
       "      <td>-0.71</td>\n",
       "      <td>-0.47</td>\n",
       "    </tr>\n",
       "    <tr>\n",
       "      <th>bAI</th>\n",
       "      <td>NaN</td>\n",
       "      <td>NaN</td>\n",
       "      <td>-0.45</td>\n",
       "    </tr>\n",
       "    <tr>\n",
       "      <th>bC</th>\n",
       "      <td>NaN</td>\n",
       "      <td>-0.96</td>\n",
       "      <td>-0.33</td>\n",
       "    </tr>\n",
       "    <tr>\n",
       "      <th>bCI</th>\n",
       "      <td>NaN</td>\n",
       "      <td>NaN</td>\n",
       "      <td>-1.27</td>\n",
       "    </tr>\n",
       "    <tr>\n",
       "      <th>bI</th>\n",
       "      <td>NaN</td>\n",
       "      <td>-0.72</td>\n",
       "      <td>-0.28</td>\n",
       "    </tr>\n",
       "  </tbody>\n",
       "</table>\n",
       "</div>"
      ],
      "text/plain": [
       "     m11_1  m11_2  m11_3\n",
       "a_0  -1.92  -2.84  -2.63\n",
       "a_1  -1.27  -2.16  -1.94\n",
       "a_2  -0.72  -1.57  -1.34\n",
       "a_3   0.25  -0.55  -0.31\n",
       "a_4   0.89   0.12   0.36\n",
       "a_5   1.77   1.02   1.27\n",
       "bA     NaN  -0.71  -0.47\n",
       "bAI    NaN    NaN  -0.45\n",
       "bC     NaN  -0.96  -0.33\n",
       "bCI    NaN    NaN  -1.27\n",
       "bI     NaN  -0.72  -0.28"
      ]
     },
     "execution_count": 29,
     "metadata": {},
     "output_type": "execute_result"
    }
   ],
   "source": [
    "(pd.DataFrame.from_dict(\n",
    "    OrderedDict([\n",
    "        ('m11_1', get_coefs(map_11_1)),\n",
    "        ('m11_2', get_coefs(map_11_2)),\n",
    "        ('m11_3', get_coefs(map_11_3))\n",
    "    ]))\n",
    "   .astype(np.float64)\n",
    "   .round(2))"
   ]
  },
  {
   "cell_type": "markdown",
   "metadata": {},
   "source": [
    "#### Code 11.16"
   ]
  },
  {
   "cell_type": "code",
   "execution_count": 30,
   "metadata": {},
   "outputs": [
    {
     "name": "stderr",
     "output_type": "stream",
     "text": [
      "Auto-assigning NUTS sampler...\n",
      "Initializing NUTS using jitter+adapt_diag...\n",
      "100%|██████████| 1000/1000 [01:27<00:00, 11.40it/s]\n"
     ]
    }
   ],
   "source": [
    "with m11_2:\n",
    "    trace_11_2 = pm.sample(njobs=2)"
   ]
  },
  {
   "cell_type": "code",
   "execution_count": 31,
   "metadata": {},
   "outputs": [
    {
     "name": "stderr",
     "output_type": "stream",
     "text": [
      "Auto-assigning NUTS sampler...\n",
      "Initializing NUTS using jitter+adapt_diag...\n",
      "100%|██████████| 1000/1000 [01:44<00:00,  9.53it/s]\n"
     ]
    }
   ],
   "source": [
    "with m11_3:\n",
    "    trace_11_3 = pm.sample(njobs=2)"
   ]
  },
  {
   "cell_type": "code",
   "execution_count": 32,
   "metadata": {},
   "outputs": [
    {
     "data": {
      "text/html": [
       "<div>\n",
       "<table border=\"1\" class=\"dataframe\">\n",
       "  <thead>\n",
       "    <tr style=\"text-align: right;\">\n",
       "      <th></th>\n",
       "      <th>WAIC</th>\n",
       "      <th>pWAIC</th>\n",
       "      <th>dWAIC</th>\n",
       "      <th>weight</th>\n",
       "      <th>SE</th>\n",
       "      <th>dSE</th>\n",
       "      <th>warning</th>\n",
       "    </tr>\n",
       "  </thead>\n",
       "  <tbody>\n",
       "    <tr>\n",
       "      <th>2</th>\n",
       "      <td>36928</td>\n",
       "      <td>10.39</td>\n",
       "      <td>0</td>\n",
       "      <td>0.95</td>\n",
       "      <td>81.44</td>\n",
       "      <td>0</td>\n",
       "      <td>0</td>\n",
       "    </tr>\n",
       "    <tr>\n",
       "      <th>1</th>\n",
       "      <td>37090</td>\n",
       "      <td>9.03</td>\n",
       "      <td>161.98</td>\n",
       "      <td>0</td>\n",
       "      <td>76.4</td>\n",
       "      <td>25.89</td>\n",
       "      <td>0</td>\n",
       "    </tr>\n",
       "    <tr>\n",
       "      <th>0</th>\n",
       "      <td>37854.5</td>\n",
       "      <td>5.95</td>\n",
       "      <td>926.48</td>\n",
       "      <td>0.05</td>\n",
       "      <td>57.83</td>\n",
       "      <td>62.98</td>\n",
       "      <td>0</td>\n",
       "    </tr>\n",
       "  </tbody>\n",
       "</table>\n",
       "</div>"
      ],
      "text/plain": [
       "      WAIC  pWAIC   dWAIC weight     SE    dSE warning\n",
       "2    36928  10.39       0   0.95  81.44      0       0\n",
       "1    37090   9.03  161.98      0   76.4  25.89       0\n",
       "0  37854.5   5.95  926.48   0.05  57.83  62.98       0"
      ]
     },
     "execution_count": 32,
     "metadata": {},
     "output_type": "execute_result"
    }
   ],
   "source": [
    "pm.compare(\n",
    "    (trace_11_1, trace_11_2, trace_11_3),\n",
    "    (m11_1, m11_2, m11_3)\n",
    ")"
   ]
  },
  {
   "cell_type": "markdown",
   "metadata": {},
   "source": [
    "#### Code 11.17-19"
   ]
  },
  {
   "cell_type": "code",
   "execution_count": 33,
   "metadata": {},
   "outputs": [],
   "source": [
    "pp_df = pd.DataFrame(\n",
    "    np.array([[0, 0, 0],\n",
    "              [0, 0, 1],\n",
    "              [1, 0, 0],\n",
    "              [1, 0, 1],\n",
    "              [0, 1, 0],\n",
    "              [0, 1, 1]]),\n",
    "    columns=['action', 'contact', 'intention']\n",
    ")"
   ]
  },
  {
   "cell_type": "code",
   "execution_count": 34,
   "metadata": {},
   "outputs": [
    {
     "data": {
      "text/html": [
       "<div>\n",
       "<table border=\"1\" class=\"dataframe\">\n",
       "  <thead>\n",
       "    <tr style=\"text-align: right;\">\n",
       "      <th></th>\n",
       "      <th>action</th>\n",
       "      <th>contact</th>\n",
       "      <th>intention</th>\n",
       "    </tr>\n",
       "  </thead>\n",
       "  <tbody>\n",
       "    <tr>\n",
       "      <th>0</th>\n",
       "      <td>0</td>\n",
       "      <td>0</td>\n",
       "      <td>0</td>\n",
       "    </tr>\n",
       "    <tr>\n",
       "      <th>1</th>\n",
       "      <td>0</td>\n",
       "      <td>0</td>\n",
       "      <td>1</td>\n",
       "    </tr>\n",
       "    <tr>\n",
       "      <th>2</th>\n",
       "      <td>1</td>\n",
       "      <td>0</td>\n",
       "      <td>0</td>\n",
       "    </tr>\n",
       "    <tr>\n",
       "      <th>3</th>\n",
       "      <td>1</td>\n",
       "      <td>0</td>\n",
       "      <td>1</td>\n",
       "    </tr>\n",
       "    <tr>\n",
       "      <th>4</th>\n",
       "      <td>0</td>\n",
       "      <td>1</td>\n",
       "      <td>0</td>\n",
       "    </tr>\n",
       "    <tr>\n",
       "      <th>5</th>\n",
       "      <td>0</td>\n",
       "      <td>1</td>\n",
       "      <td>1</td>\n",
       "    </tr>\n",
       "  </tbody>\n",
       "</table>\n",
       "</div>"
      ],
      "text/plain": [
       "   action  contact  intention\n",
       "0       0        0          0\n",
       "1       0        0          1\n",
       "2       1        0          0\n",
       "3       1        0          1\n",
       "4       0        1          0\n",
       "5       0        1          1"
      ]
     },
     "execution_count": 34,
     "metadata": {},
     "output_type": "execute_result"
    }
   ],
   "source": [
    "pp_df"
   ]
  },
  {
   "cell_type": "code",
   "execution_count": 35,
   "metadata": {
    "scrolled": false
   },
   "outputs": [
    {
     "name": "stderr",
     "output_type": "stream",
     "text": [
      "100%|██████████| 1500/1500 [00:02<00:00, 686.58it/s]\n"
     ]
    }
   ],
   "source": [
    "action.set_value(pp_df.action.values)\n",
    "contact.set_value(pp_df.contact.values)\n",
    "intention.set_value(pp_df.intention.values)\n",
    "\n",
    "with m11_3:\n",
    "    pp_trace_11_3 = pm.sample_ppc(trace_11_3, samples=1500)"
   ]
  },
  {
   "cell_type": "code",
   "execution_count": 36,
   "metadata": {},
   "outputs": [],
   "source": [
    "PP_COLS = ['pp_{}'.format(i) for i, _ in enumerate(pp_trace_11_3['resp_obs'])]\n",
    "\n",
    "pp_df = pd.concat(\n",
    "    (\n",
    "        pp_df,\n",
    "        pd.DataFrame(\n",
    "            pp_trace_11_3['resp_obs'].T,\n",
    "            columns=PP_COLS\n",
    "        )\n",
    "    ), axis=1)"
   ]
  },
  {
   "cell_type": "code",
   "execution_count": 37,
   "metadata": {},
   "outputs": [],
   "source": [
    "pp_cum_df = (pd.melt(\n",
    "                    pp_df,\n",
    "                    id_vars=['action', 'contact', 'intention'],\n",
    "                    value_vars=PP_COLS, value_name='resp'\n",
    "                )\n",
    "               .groupby(['action', 'contact', 'intention', 'resp'])\n",
    "               .size()\n",
    "               .div(1500)\n",
    "               .rename('proba')\n",
    "               .reset_index()\n",
    "               .pivot_table(\n",
    "                   index=['action', 'contact', 'intention'],\n",
    "                   values='proba',\n",
    "                   columns='resp'\n",
    "                )\n",
    "               .cumsum(axis=1)\n",
    "               .iloc[:, :-1])"
   ]
  },
  {
   "cell_type": "code",
   "execution_count": 38,
   "metadata": {},
   "outputs": [
    {
     "data": {
      "text/html": [
       "<div>\n",
       "<table border=\"1\" class=\"dataframe\">\n",
       "  <thead>\n",
       "    <tr style=\"text-align: right;\">\n",
       "      <th></th>\n",
       "      <th></th>\n",
       "      <th>resp</th>\n",
       "      <th>0</th>\n",
       "      <th>1</th>\n",
       "      <th>2</th>\n",
       "      <th>3</th>\n",
       "      <th>4</th>\n",
       "      <th>5</th>\n",
       "    </tr>\n",
       "    <tr>\n",
       "      <th>action</th>\n",
       "      <th>contact</th>\n",
       "      <th>intention</th>\n",
       "      <th></th>\n",
       "      <th></th>\n",
       "      <th></th>\n",
       "      <th></th>\n",
       "      <th></th>\n",
       "      <th></th>\n",
       "    </tr>\n",
       "  </thead>\n",
       "  <tbody>\n",
       "    <tr>\n",
       "      <th rowspan=\"4\" valign=\"top\">0</th>\n",
       "      <th rowspan=\"2\" valign=\"top\">0</th>\n",
       "      <th>0</th>\n",
       "      <td>0.064667</td>\n",
       "      <td>0.126667</td>\n",
       "      <td>0.199333</td>\n",
       "      <td>0.416000</td>\n",
       "      <td>0.586000</td>\n",
       "      <td>0.767333</td>\n",
       "    </tr>\n",
       "    <tr>\n",
       "      <th>1</th>\n",
       "      <td>0.093333</td>\n",
       "      <td>0.169333</td>\n",
       "      <td>0.256000</td>\n",
       "      <td>0.495333</td>\n",
       "      <td>0.668000</td>\n",
       "      <td>0.833333</td>\n",
       "    </tr>\n",
       "    <tr>\n",
       "      <th rowspan=\"2\" valign=\"top\">1</th>\n",
       "      <th>0</th>\n",
       "      <td>0.105333</td>\n",
       "      <td>0.182667</td>\n",
       "      <td>0.282000</td>\n",
       "      <td>0.517333</td>\n",
       "      <td>0.673333</td>\n",
       "      <td>0.838667</td>\n",
       "    </tr>\n",
       "    <tr>\n",
       "      <th>1</th>\n",
       "      <td>0.316667</td>\n",
       "      <td>0.502000</td>\n",
       "      <td>0.641333</td>\n",
       "      <td>0.833333</td>\n",
       "      <td>0.902000</td>\n",
       "      <td>0.961333</td>\n",
       "    </tr>\n",
       "    <tr>\n",
       "      <th rowspan=\"2\" valign=\"top\">1</th>\n",
       "      <th rowspan=\"2\" valign=\"top\">0</th>\n",
       "      <th>0</th>\n",
       "      <td>0.098000</td>\n",
       "      <td>0.171333</td>\n",
       "      <td>0.271333</td>\n",
       "      <td>0.540667</td>\n",
       "      <td>0.704667</td>\n",
       "      <td>0.846667</td>\n",
       "    </tr>\n",
       "    <tr>\n",
       "      <th>1</th>\n",
       "      <td>0.214000</td>\n",
       "      <td>0.339333</td>\n",
       "      <td>0.468667</td>\n",
       "      <td>0.705333</td>\n",
       "      <td>0.819333</td>\n",
       "      <td>0.933333</td>\n",
       "    </tr>\n",
       "  </tbody>\n",
       "</table>\n",
       "</div>"
      ],
      "text/plain": [
       "resp                             0         1         2         3         4  \\\n",
       "action contact intention                                                     \n",
       "0      0       0          0.064667  0.126667  0.199333  0.416000  0.586000   \n",
       "               1          0.093333  0.169333  0.256000  0.495333  0.668000   \n",
       "       1       0          0.105333  0.182667  0.282000  0.517333  0.673333   \n",
       "               1          0.316667  0.502000  0.641333  0.833333  0.902000   \n",
       "1      0       0          0.098000  0.171333  0.271333  0.540667  0.704667   \n",
       "               1          0.214000  0.339333  0.468667  0.705333  0.819333   \n",
       "\n",
       "resp                             5  \n",
       "action contact intention            \n",
       "0      0       0          0.767333  \n",
       "               1          0.833333  \n",
       "       1       0          0.838667  \n",
       "               1          0.961333  \n",
       "1      0       0          0.846667  \n",
       "               1          0.933333  "
      ]
     },
     "execution_count": 38,
     "metadata": {},
     "output_type": "execute_result"
    }
   ],
   "source": [
    "pp_cum_df"
   ]
  },
  {
   "cell_type": "code",
   "execution_count": 39,
   "metadata": {},
   "outputs": [
    {
     "data": {
      "image/png": "[encoded data removed]",
      "text/plain": [
       "<matplotlib.figure.Figure at 0x7f376f9ad630>"
      ]
     },
     "metadata": {},
     "output_type": "display_data"
    },
    {
     "data": {
      "image/png": "[encoded data removed]",
      "text/plain": [
       "<matplotlib.figure.Figure at 0x7f376f9ad550>"
      ]
     },
     "metadata": {},
     "output_type": "display_data"
    },
    {
     "data": {
      "image/png": "[encoded data removed]",
      "text/plain": [
       "<matplotlib.figure.Figure at 0x7f376f92fe10>"
      ]
     },
     "metadata": {},
     "output_type": "display_data"
    }
   ],
   "source": [
    "for (plot_action, plot_contact), plot_df in pp_cum_df.groupby(level=['action', 'contact']):\n",
    "    fig, ax = plt.subplots(figsize=(8, 6))\n",
    "    \n",
    "    ax.plot([0, 1], plot_df, c=C0);\n",
    "    ax.plot([0, 1], [0, 0], '--', c=C0);\n",
    "    ax.plot([0, 1], [1, 1], '--', c=C0);\n",
    "    \n",
    "    ax.set_xlim(0, 1);\n",
    "    ax.set_xlabel(\"intention\");\n",
    "    \n",
    "    ax.set_ylim(-0.05, 1.05);\n",
    "    ax.set_ylabel(\"probability\");\n",
    "    \n",
    "    ax.set_title(\n",
    "        \"action = {action}, contact = {contact}\".format(\n",
    "            action=plot_action, contact=plot_contact\n",
    "        )\n",
    "    );"
   ]
  },
  {
   "cell_type": "markdown",
   "metadata": {},
   "source": [
    "#### Code 11.20"
   ]
  },
  {
   "cell_type": "code",
   "execution_count": 40,
   "metadata": {
    "collapsed": true
   },
   "outputs": [],
   "source": [
    "# define parameters\n",
    "PROB_DRINK = 0.2 # 20% of days\n",
    "RATE_WORK = 1. # average 1 manuscript per day\n",
    "\n",
    "# sample one year of production\n",
    "N = 365"
   ]
  },
  {
   "cell_type": "code",
   "execution_count": 41,
   "metadata": {
    "collapsed": true
   },
   "outputs": [],
   "source": [
    "drink = np.random.binomial(1, PROB_DRINK, size=N)\n",
    "y = (1 - drink) * np.random.poisson(RATE_WORK, size=N)"
   ]
  },
  {
   "cell_type": "markdown",
   "metadata": {},
   "source": [
    "#### Code 11.21"
   ]
  },
  {
   "cell_type": "code",
   "execution_count": 42,
   "metadata": {
    "collapsed": true
   },
   "outputs": [],
   "source": [
    "drink_zeros = drink.sum()\n",
    "work_zeros = (y == 0).sum() - drink_zeros"
   ]
  },
  {
   "cell_type": "code",
   "execution_count": 43,
   "metadata": {},
   "outputs": [
    {
     "data": {
      "image/png": "[encoded data removed]",
      "text/plain": [
       "<matplotlib.figure.Figure at 0x7f3771daa2b0>"
      ]
     },
     "metadata": {},
     "output_type": "display_data"
    }
   ],
   "source": [
    "bins = np.arange(y.max() + 1) - 0.5\n",
    "\n",
    "plt.hist(y, bins=bins);\n",
    "plt.bar(0., drink_zeros, width=1., bottom=work_zeros, color=C1);\n",
    "\n",
    "plt.xticks(bins + 0.5);\n",
    "plt.xlabel(\"manuscripts completed\");\n",
    "\n",
    "plt.ylabel(\"Frequency\");"
   ]
  },
  {
   "cell_type": "markdown",
   "metadata": {},
   "source": [
    "#### Code 11.22"
   ]
  },
  {
   "cell_type": "code",
   "execution_count": 44,
   "metadata": {
    "collapsed": true
   },
   "outputs": [],
   "source": [
    "with pm.Model() as m11_4:\n",
    "    ap = pm.Normal('ap', 0., 1.)\n",
    "    p = pm.math.sigmoid(ap)\n",
    "    \n",
    "    al = pm.Normal('al', 0., 10.)\n",
    "    lambda_ = tt.exp(al)\n",
    "    \n",
    "    y_obs = pm.ZeroInflatedPoisson('y_obs', 1. - p, lambda_, observed=y)"
   ]
  },
  {
   "cell_type": "code",
   "execution_count": 45,
   "metadata": {},
   "outputs": [
    {
     "name": "stderr",
     "output_type": "stream",
     "text": [
      "logp = -442.71, ||grad|| = 56.216: 100%|██████████| 11/11 [00:00<00:00, 2475.84it/s]\n"
     ]
    }
   ],
   "source": [
    "with m11_4:\n",
    "    map_11_4 = pm.find_MAP()"
   ]
  },
  {
   "cell_type": "code",
   "execution_count": 46,
   "metadata": {
    "scrolled": true
   },
   "outputs": [
    {
     "data": {
      "text/plain": [
       "{'al': array(-0.04049705724258821), 'ap': array(-1.0697320330086826)}"
      ]
     },
     "execution_count": 46,
     "metadata": {},
     "output_type": "execute_result"
    }
   ],
   "source": [
    "map_11_4"
   ]
  },
  {
   "cell_type": "markdown",
   "metadata": {},
   "source": [
    "#### Code 11.23"
   ]
  },
  {
   "cell_type": "code",
   "execution_count": 47,
   "metadata": {},
   "outputs": [
    {
     "data": {
      "text/plain": [
       "0.25545404742468042"
      ]
     },
     "execution_count": 47,
     "metadata": {},
     "output_type": "execute_result"
    }
   ],
   "source": [
    "sp.special.expit(map_11_4['ap']) # probability drink"
   ]
  },
  {
   "cell_type": "code",
   "execution_count": 48,
   "metadata": {},
   "outputs": [
    {
     "data": {
      "text/plain": [
       "0.9603119904724825"
      ]
     },
     "execution_count": 48,
     "metadata": {},
     "output_type": "execute_result"
    }
   ],
   "source": [
    "np.exp(map_11_4['al']) # rate finish manuscripts, when not drinking"
   ]
  },
  {
   "cell_type": "markdown",
   "metadata": {},
   "source": [
    "#### Code 11.24"
   ]
  },
  {
   "cell_type": "code",
   "execution_count": 49,
   "metadata": {
    "collapsed": true
   },
   "outputs": [],
   "source": [
    "def dzip(x, p, lambda_, log=True):\n",
    "    like = p**(x == 0) + (1 - p) * sp.stats.poisson.pmf(x, lambda_)\n",
    "    \n",
    "    return np.log(like) if log else like"
   ]
  },
  {
   "cell_type": "markdown",
   "metadata": {},
   "source": [
    "#### Code 11.25"
   ]
  },
  {
   "cell_type": "code",
   "execution_count": 50,
   "metadata": {
    "collapsed": true
   },
   "outputs": [],
   "source": [
    "PBAR = 0.5\n",
    "THETA = 5."
   ]
  },
  {
   "cell_type": "code",
   "execution_count": 51,
   "metadata": {
    "collapsed": true
   },
   "outputs": [],
   "source": [
    "a = PBAR * THETA\n",
    "b = (1 - PBAR) * THETA"
   ]
  },
  {
   "cell_type": "code",
   "execution_count": 52,
   "metadata": {},
   "outputs": [
    {
     "data": {
      "image/png": "[encoded data removed]",
      "text/plain": [
       "<matplotlib.figure.Figure at 0x7f3771bdf358>"
      ]
     },
     "metadata": {},
     "output_type": "display_data"
    }
   ],
   "source": [
    "p = np.linspace(0, 1, 100)\n",
    "\n",
    "plt.plot(p, sp.stats.beta.pdf(p, a, b));\n",
    "\n",
    "plt.xlim(0, 1);\n",
    "plt.xlabel(\"probability\");\n",
    "\n",
    "plt.ylabel(\"Density\");"
   ]
  },
  {
   "cell_type": "markdown",
   "metadata": {},
   "source": [
    "#### Code 11.26"
   ]
  },
  {
   "cell_type": "code",
   "execution_count": 53,
   "metadata": {
    "collapsed": true
   },
   "outputs": [],
   "source": [
    "ADMIT_URI = 'https://raw.githubusercontent.com/aloctavodia/Statistical-Rethinking-with-Python-and-PyMC3/master/Data/UCBadmit.csv'\n",
    "\n",
    "admit_df = pd.read_csv(ADMIT_URI, sep=';')"
   ]
  },
  {
   "cell_type": "code",
   "execution_count": 54,
   "metadata": {},
   "outputs": [
    {
     "data": {
      "text/html": [
       "<div>\n",
       "<table border=\"1\" class=\"dataframe\">\n",
       "  <thead>\n",
       "    <tr style=\"text-align: right;\">\n",
       "      <th></th>\n",
       "      <th>dept</th>\n",
       "      <th>applicant.gender</th>\n",
       "      <th>admit</th>\n",
       "      <th>reject</th>\n",
       "      <th>applications</th>\n",
       "    </tr>\n",
       "  </thead>\n",
       "  <tbody>\n",
       "    <tr>\n",
       "      <th>1</th>\n",
       "      <td>A</td>\n",
       "      <td>male</td>\n",
       "      <td>512</td>\n",
       "      <td>313</td>\n",
       "      <td>825</td>\n",
       "    </tr>\n",
       "    <tr>\n",
       "      <th>2</th>\n",
       "      <td>A</td>\n",
       "      <td>female</td>\n",
       "      <td>89</td>\n",
       "      <td>19</td>\n",
       "      <td>108</td>\n",
       "    </tr>\n",
       "    <tr>\n",
       "      <th>3</th>\n",
       "      <td>B</td>\n",
       "      <td>male</td>\n",
       "      <td>353</td>\n",
       "      <td>207</td>\n",
       "      <td>560</td>\n",
       "    </tr>\n",
       "    <tr>\n",
       "      <th>4</th>\n",
       "      <td>B</td>\n",
       "      <td>female</td>\n",
       "      <td>17</td>\n",
       "      <td>8</td>\n",
       "      <td>25</td>\n",
       "    </tr>\n",
       "    <tr>\n",
       "      <th>5</th>\n",
       "      <td>C</td>\n",
       "      <td>male</td>\n",
       "      <td>120</td>\n",
       "      <td>205</td>\n",
       "      <td>325</td>\n",
       "    </tr>\n",
       "  </tbody>\n",
       "</table>\n",
       "</div>"
      ],
      "text/plain": [
       "  dept applicant.gender  admit  reject  applications\n",
       "1    A             male    512     313           825\n",
       "2    A           female     89      19           108\n",
       "3    B             male    353     207           560\n",
       "4    B           female     17       8            25\n",
       "5    C             male    120     205           325"
      ]
     },
     "execution_count": 54,
     "metadata": {},
     "output_type": "execute_result"
    }
   ],
   "source": [
    "admit_df.head()"
   ]
  },
  {
   "cell_type": "code",
   "execution_count": 55,
   "metadata": {
    "scrolled": false
   },
   "outputs": [],
   "source": [
    "with pm.Model() as m11_5:\n",
    "    a = pm.Normal('a', 0., 2.)\n",
    "    pbar = pm.Deterministic('pbar', pm.math.sigmoid(a))\n",
    "\n",
    "    theta = pm.Exponential('theta', 1.)\n",
    "    \n",
    "    admit_obs = pm.BetaBinomial(\n",
    "        'admit_obs',\n",
    "        pbar * theta, (1. - pbar) * theta,\n",
    "        admit_df.applications.values,\n",
    "        observed=admit_df.admit.values\n",
    "    )"
   ]
  },
  {
   "cell_type": "code",
   "execution_count": 56,
   "metadata": {
    "scrolled": true
   },
   "outputs": [
    {
     "name": "stderr",
     "output_type": "stream",
     "text": [
      "Auto-assigning NUTS sampler...\n",
      "Initializing NUTS using jitter+adapt_diag...\n",
      "100%|██████████| 4000/4000 [00:04<00:00, 827.83it/s]\n"
     ]
    }
   ],
   "source": [
    "with m11_5:\n",
    "    trace_11_5 = pm.sample(draws=3000, tune=1000, njobs=2)"
   ]
  },
  {
   "cell_type": "markdown",
   "metadata": {},
   "source": [
    "#### Code 11.27"
   ]
  },
  {
   "cell_type": "code",
   "execution_count": 57,
   "metadata": {},
   "outputs": [
    {
     "data": {
      "text/html": [
       "<div>\n",
       "<table border=\"1\" class=\"dataframe\">\n",
       "  <thead>\n",
       "    <tr style=\"text-align: right;\">\n",
       "      <th></th>\n",
       "      <th>mean</th>\n",
       "      <th>sd</th>\n",
       "      <th>mc_error</th>\n",
       "      <th>hpd_2.5</th>\n",
       "      <th>hpd_97.5</th>\n",
       "    </tr>\n",
       "  </thead>\n",
       "  <tbody>\n",
       "    <tr>\n",
       "      <th>a</th>\n",
       "      <td>-0.381160</td>\n",
       "      <td>0.308795</td>\n",
       "      <td>0.003945</td>\n",
       "      <td>-0.983440</td>\n",
       "      <td>0.219885</td>\n",
       "    </tr>\n",
       "    <tr>\n",
       "      <th>pbar</th>\n",
       "      <td>0.407881</td>\n",
       "      <td>0.073044</td>\n",
       "      <td>0.000932</td>\n",
       "      <td>0.266425</td>\n",
       "      <td>0.548714</td>\n",
       "    </tr>\n",
       "    <tr>\n",
       "      <th>theta</th>\n",
       "      <td>2.770899</td>\n",
       "      <td>0.943212</td>\n",
       "      <td>0.014761</td>\n",
       "      <td>1.169124</td>\n",
       "      <td>4.690021</td>\n",
       "    </tr>\n",
       "  </tbody>\n",
       "</table>\n",
       "</div>"
      ],
      "text/plain": [
       "           mean        sd  mc_error   hpd_2.5  hpd_97.5\n",
       "a     -0.381160  0.308795  0.003945 -0.983440  0.219885\n",
       "pbar   0.407881  0.073044  0.000932  0.266425  0.548714\n",
       "theta  2.770899  0.943212  0.014761  1.169124  4.690021"
      ]
     },
     "execution_count": 57,
     "metadata": {},
     "output_type": "execute_result"
    }
   ],
   "source": [
    "pm.df_summary(trace_11_5)"
   ]
  },
  {
   "cell_type": "code",
   "execution_count": 58,
   "metadata": {},
   "outputs": [
    {
     "data": {
      "text/plain": [
       "{'a': 4512.0, 'pbar': 4507.0, 'theta': 4266.0}"
      ]
     },
     "execution_count": 58,
     "metadata": {},
     "output_type": "execute_result"
    }
   ],
   "source": [
    "pm.effective_n(trace_11_5)"
   ]
  },
  {
   "cell_type": "code",
   "execution_count": 59,
   "metadata": {},
   "outputs": [
    {
     "data": {
      "text/plain": [
       "{'a': 1.0001572019570621,\n",
       " 'pbar': 1.0001296529064885,\n",
       " 'theta': 0.99983401328012012}"
      ]
     },
     "execution_count": 59,
     "metadata": {},
     "output_type": "execute_result"
    }
   ],
   "source": [
    "pm.gelman_rubin(trace_11_5)"
   ]
  },
  {
   "cell_type": "markdown",
   "metadata": {},
   "source": [
    "#### Code 11.28"
   ]
  },
  {
   "cell_type": "code",
   "execution_count": 60,
   "metadata": {},
   "outputs": [
    {
     "data": {
      "text/plain": [
       "array([ 0.27312041,  0.40508976,  0.55719573])"
      ]
     },
     "execution_count": 60,
     "metadata": {},
     "output_type": "execute_result"
    }
   ],
   "source": [
    "np.percentile(trace_11_5['pbar'], [2.5, 50., 97.5])"
   ]
  },
  {
   "cell_type": "markdown",
   "metadata": {},
   "source": [
    "#### Code 11.29"
   ]
  },
  {
   "cell_type": "code",
   "execution_count": 61,
   "metadata": {},
   "outputs": [
    {
     "data": {
      "image/png": "[encoded data removed]",
      "text/plain": [
       "<matplotlib.figure.Figure at 0x7f3771bc6668>"
      ]
     },
     "metadata": {},
     "output_type": "display_data"
    }
   ],
   "source": [
    "pbar_hat = trace_11_5['pbar'].mean()\n",
    "theta_hat = trace_11_5['theta'].mean()\n",
    "\n",
    "p_plot = np.linspace(0, 1, 100)\n",
    "\n",
    "plt.plot(\n",
    "    p_plot,\n",
    "    sp.stats.beta.pdf(p_plot, pbar_hat * theta_hat, (1. - pbar_hat) * theta_hat)\n",
    ");\n",
    "plt.plot(\n",
    "    p_plot,\n",
    "    sp.stats.beta.pdf(\n",
    "        p_plot[:, np.newaxis],\n",
    "        trace_11_5['pbar'][:100] * trace_11_5['theta'][:100],\n",
    "        (1. - trace_11_5['pbar'][:100]) * trace_11_5['theta'][:100]\n",
    "    ),\n",
    "    c=C0, alpha=0.1\n",
    ");\n",
    "\n",
    "plt.xlim(0., 1.);\n",
    "plt.xlabel(\"probability admit\");\n",
    "\n",
    "plt.ylim(0., 3.);\n",
    "plt.ylabel(\"Density\");"
   ]
  },
  {
   "cell_type": "markdown",
   "metadata": {},
   "source": [
    "#### Code 11.30"
   ]
  },
  {
   "cell_type": "code",
   "execution_count": 62,
   "metadata": {},
   "outputs": [
    {
     "name": "stderr",
     "output_type": "stream",
     "text": [
      "100%|██████████| 3000/3000 [00:01<00:00, 1566.78it/s]\n"
     ]
    }
   ],
   "source": [
    "with m11_5:\n",
    "    pp_trace_11_5 = pm.sample_ppc(trace_11_5)"
   ]
  },
  {
   "cell_type": "code",
   "execution_count": 63,
   "metadata": {
    "scrolled": false
   },
   "outputs": [
    {
     "data": {
      "image/png": "[encoded data removed]",
      "text/plain": [
       "<matplotlib.figure.Figure at 0x7f378763bf28>"
      ]
     },
     "metadata": {},
     "output_type": "display_data"
    }
   ],
   "source": [
    "x_case = np.arange(admit_df.shape[0])\n",
    "\n",
    "plt.scatter(\n",
    "    x_case,\n",
    "    pp_trace_11_5['admit_obs'].mean(axis=0) \\\n",
    "        / admit_df.applications.values\n",
    ");\n",
    "plt.scatter(x_case, admit_df.admit / admit_df.applications);\n",
    "\n",
    "high = np.percentile(pp_trace_11_5['admit_obs'], 95, axis=0) \\\n",
    "        / admit_df.applications.values\n",
    "plt.scatter(x_case, high, marker='x', c='k');\n",
    "\n",
    "low = np.percentile(pp_trace_11_5['admit_obs'], 5, axis=0) \\\n",
    "        / admit_df.applications.values\n",
    "plt.scatter(x_case, low, marker='x', c='k');"
   ]
  },
  {
   "cell_type": "markdown",
   "metadata": {},
   "source": [
    "#### Code 11.31"
   ]
  },
  {
   "cell_type": "code",
   "execution_count": 64,
   "metadata": {},
   "outputs": [
    {
     "data": {
      "image/png": "[encoded data removed]",
      "text/plain": [
       "<matplotlib.figure.Figure at 0x7f3787341d30>"
      ]
     },
     "metadata": {},
     "output_type": "display_data"
    }
   ],
   "source": [
    "mu = 3.\n",
    "theta = 1.\n",
    "\n",
    "x = np.linspace(0, 10, 100)\n",
    "plt.plot(x, sp.stats.gamma.pdf(x, mu / theta, scale=theta));"
   ]
  }
 ],
 "metadata": {
  "kernelspec": {
   "display_name": "Python 3",
   "language": "python",
   "name": "python3"
  },
  "language_info": {
   "codemirror_mode": {
    "name": "ipython",
    "version": 3
   },
   "file_extension": ".py",
   "mimetype": "text/x-python",
   "name": "python",
   "nbconvert_exporter": "python",
   "pygments_lexer": "ipython3",
   "version": "3.6.2"
  }
 },
 "nbformat": 4,
 "nbformat_minor": 2
}
